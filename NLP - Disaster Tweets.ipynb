{
 "cells": [
  {
   "cell_type": "code",
   "execution_count": 1,
   "metadata": {
    "code_folding": [
     0
    ]
   },
   "outputs": [
    {
     "name": "stderr",
     "output_type": "stream",
     "text": [
      "C:\\Users\\LENOVO\\AppData\\Roaming\\Python\\Python38\\site-packages\\IPython\\core\\interactiveshell.py:3146: DtypeWarning: Columns (3) have mixed types.Specify dtype option on import or set low_memory=False.\n",
      "  has_raised = await self.run_ast_nodes(code_ast.body, cell_name,\n"
     ]
    }
   ],
   "source": [
    "# Files and modules\n",
    "import pandas as pd, string, matplotlib.pyplot as plt\n",
    "from nltk.corpus import stopwords  \n",
    "from nltk.tokenize import word_tokenize\n",
    "from sklearn.feature_extraction.text import CountVectorizer, TfidfTransformer\n",
    "from sklearn.model_selection import RandomizedSearchCV, train_test_split\n",
    "from sklearn.pipeline import Pipeline\n",
    "from sklearn.feature_extraction.text import TfidfTransformer\n",
    "from sklearn.compose import ColumnTransformer\n",
    "from sklearn.metrics import recall_score, plot_confusion_matrix\n",
    "from sklearn.naive_bayes import MultinomialNB\n",
    "from sklearn.ensemble import RandomForestClassifier\n",
    "from xgboost import XGBClassifier\n",
    "\n",
    "train = pd.read_csv(\"./disaster_response_messages_training.csv\").drop([\"split\", \"original\", \"id\"], 1)\n",
    "val = pd.read_csv(\"./disaster_response_messages_validation.csv\").drop([\"split\", \"original\", \"id\"], 1)\n",
    "test = pd.read_csv(\"./disaster_response_messages_test.csv\").drop([\"split\", \"original\", \"id\"], 1)"
   ]
  },
  {
   "cell_type": "code",
   "execution_count": 2,
   "metadata": {
    "code_folding": [
     0
    ]
   },
   "outputs": [],
   "source": [
    "# Because the readme file told that the dataset contains binary target, we drop the \"2\" in related column\n",
    "train = train[train[\"related\"] != 2].reset_index(drop = True)\n",
    "val = val[val[\"related\"] != 2].reset_index(drop = True)\n",
    "test = test[test[\"related\"] != 2].reset_index(drop = True)"
   ]
  },
  {
   "cell_type": "code",
   "execution_count": 3,
   "metadata": {
    "code_folding": [
     0
    ]
   },
   "outputs": [],
   "source": [
    "# Concatenating \"train\" and \"val\" data set as a single train dataframe\n",
    "train = pd.concat([train, val]).reset_index(drop = True)"
   ]
  },
  {
   "cell_type": "code",
   "execution_count": 4,
   "metadata": {
    "code_folding": [
     0
    ]
   },
   "outputs": [
    {
     "name": "stdout",
     "output_type": "stream",
     "text": [
      "Columns types:\n",
      "\n",
      "- message : object\n",
      "- genre : object\n",
      "- related : int64\n",
      "- PII : int64\n",
      "- request : int64\n",
      "- offer : int64\n",
      "- aid_related : int64\n",
      "- medical_help : int64\n",
      "- medical_products : int64\n",
      "- search_and_rescue : int64\n",
      "- security : int64\n",
      "- military : int64\n",
      "- child_alone : int64\n",
      "- water : int64\n",
      "- food : int64\n",
      "- shelter : int64\n",
      "- clothing : int64\n",
      "- money : int64\n",
      "- missing_people : int64\n",
      "- refugees : int64\n",
      "- death : int64\n",
      "- other_aid : int64\n",
      "- infrastructure_related : int64\n",
      "- transport : int64\n",
      "- buildings : int64\n",
      "- electricity : int64\n",
      "- tools : int64\n",
      "- hospitals : int64\n",
      "- shops : int64\n",
      "- aid_centers : int64\n",
      "- other_infrastructure : int64\n",
      "- weather_related : int64\n",
      "- floods : int64\n",
      "- storm : int64\n",
      "- fire : int64\n",
      "- earthquake : int64\n",
      "- cold : int64\n",
      "- other_weather : int64\n",
      "- direct_report : int64\n"
     ]
    }
   ],
   "source": [
    "# Putting away message column, all columns are binary except genre column. Thus, we should encode this later\n",
    "print(\"Columns types:\\n\")\n",
    "for x in train.columns:\n",
    "    print(f\"- {x} : {train[x].dtypes}\")"
   ]
  },
  {
   "cell_type": "code",
   "execution_count": 5,
   "metadata": {
    "code_folding": [
     0
    ]
   },
   "outputs": [
    {
     "name": "stdout",
     "output_type": "stream",
     "text": [
      "Missing values in train data set:\n",
      "\n"
     ]
    },
    {
     "data": {
      "text/plain": [
       "message                   0\n",
       "genre                     0\n",
       "related                   0\n",
       "PII                       0\n",
       "request                   0\n",
       "offer                     0\n",
       "aid_related               0\n",
       "medical_help              0\n",
       "medical_products          0\n",
       "search_and_rescue         0\n",
       "security                  0\n",
       "military                  0\n",
       "child_alone               0\n",
       "water                     0\n",
       "food                      0\n",
       "shelter                   0\n",
       "clothing                  0\n",
       "money                     0\n",
       "missing_people            0\n",
       "refugees                  0\n",
       "death                     0\n",
       "other_aid                 0\n",
       "infrastructure_related    0\n",
       "transport                 0\n",
       "buildings                 0\n",
       "electricity               0\n",
       "tools                     0\n",
       "hospitals                 0\n",
       "shops                     0\n",
       "aid_centers               0\n",
       "other_infrastructure      0\n",
       "weather_related           0\n",
       "floods                    0\n",
       "storm                     0\n",
       "fire                      0\n",
       "earthquake                0\n",
       "cold                      0\n",
       "other_weather             0\n",
       "direct_report             0\n",
       "dtype: int64"
      ]
     },
     "metadata": {},
     "output_type": "display_data"
    }
   ],
   "source": [
    "# There're no missing values in train data set\n",
    "print(\"Missing values in train data set:\\n\")\n",
    "display(train.isna().sum())"
   ]
  },
  {
   "cell_type": "code",
   "execution_count": 6,
   "metadata": {
    "code_folding": [
     0
    ]
   },
   "outputs": [
    {
     "data": {
      "text/plain": [
       "1    17720\n",
       "0     5715\n",
       "Name: related, dtype: int64"
      ]
     },
     "metadata": {},
     "output_type": "display_data"
    }
   ],
   "source": [
    "# Imbalanced class\n",
    "display(train[\"related\"].value_counts())"
   ]
  },
  {
   "cell_type": "markdown",
   "metadata": {},
   "source": [
    "We focus on the positive class, which is tweets related to disaster because it's the main goal of classifying this data set. Hence, we won't handle this imbalanced data set by any way. Higher proportion of positive class enable the model to learn better in predicting positive class itself. I myself tried the prediction with over sampling technique and found the non - handled data set gained better score. \n",
    "\n",
    "Speaking about score, we will use recall score as our model's benchmark since false negative is far more important to be reduced. It would be dangerous if the machine fails to predict a real disaster - related tweet. The user would most likely fail to accommodate the impacted area or groups. On the other hand, if the machine falsely predict a non disaster - related tweet, it would costs nothing for the user. The only thing the user will sufer is time, because he will most likely confirm and check the truth of the disaster."
   ]
  },
  {
   "cell_type": "code",
   "execution_count": 7,
   "metadata": {
    "code_folding": [
     0
    ]
   },
   "outputs": [],
   "source": [
    "# Removing punctuation and encode \"genre\"\n",
    "def prep(x):\n",
    "    temp = []\n",
    "    for m in x[\"message\"]:\n",
    "        for d in m:\n",
    "            if d in list(string.punctuation):\n",
    "                m = m.replace(d, \" \")\n",
    "        temp.append(m)\n",
    "    \n",
    "    x[\"message\"] = temp\n",
    "    \n",
    "    x = pd.get_dummies(data = x, columns = [\"genre\"])\n",
    "    \n",
    "    return x"
   ]
  },
  {
   "cell_type": "code",
   "execution_count": 8,
   "metadata": {
    "code_folding": [
     0
    ]
   },
   "outputs": [],
   "source": [
    "# Removing stop words, tokenizing, and converting text to token counts matrix\n",
    "cvec = CountVectorizer(\n",
    "    stop_words = \"english\",\n",
    "    min_df = 50,\n",
    "    lowercase = True\n",
    "    )\n",
    "\n",
    "# Pipelining the process\n",
    "tfidf = TfidfTransformer()\n",
    "textProcessor = ColumnTransformer([(\"message\", Pipeline([\n",
    "    (\"vect\", cvec),\n",
    "    (\"tfidf\", tfidf)\n",
    "    ]), \"message\")])"
   ]
  },
  {
   "cell_type": "code",
   "execution_count": 9,
   "metadata": {
    "code_folding": [
     0
    ]
   },
   "outputs": [],
   "source": [
    "# Splitting\n",
    "X, y = prep(train).drop(\"related\", 1), train[\"related\"]\n",
    "\n",
    "X_train, X_test, y_train, y_test = train_test_split(X, y, test_size = 0.2, random_state = 7, stratify = y)"
   ]
  },
  {
   "cell_type": "code",
   "execution_count": 11,
   "metadata": {
    "code_folding": [
     0
    ]
   },
   "outputs": [],
   "source": [
    "# For plotting purpose\n",
    "def plotConMat(name, model, trainX, testX, trainy, testy):\n",
    "    fig, ax = plt.subplots(nrows = 1, ncols = 2, figsize=(15, 6))\n",
    "  \n",
    "    conMat = plot_confusion_matrix(model, trainX, trainy, cmap = \"YlOrRd\", values_format = \"g\", ax = ax[0])\n",
    "    conMat.ax_.set_yticklabels(\n",
    "      (\"Not Related\", \"Related\"),\n",
    "      fontdict = {\n",
    "          \"verticalalignment\": \"center\",\n",
    "          \"rotation\" : 90\n",
    "          }\n",
    "        )\n",
    "    ax[0].set_xticklabels(\n",
    "      (\"Not Related\", \"Related\"),\n",
    "      fontdict = {\n",
    "          \"horizontalalignment\": \"center\",\n",
    "          }\n",
    "        )\n",
    "    ax[0].set_xlabel(\n",
    "      \"Predicted Label\",\n",
    "      fontdict = {\n",
    "          \"weight\" : \"bold\"\n",
    "          }\n",
    "        )\n",
    "    ax[0].set_ylabel(\n",
    "      \"True Label\",\n",
    "      fontdict = {\n",
    "          \"weight\" : \"bold\"\n",
    "          }\n",
    "        )\n",
    "    conMat.ax_.set_title(\n",
    "      name + \" (Train)\",\n",
    "      fontdict = {\n",
    "          \"weight\" : \"bold\",\n",
    "          \"size\" : 14,\n",
    "          \"horizontalalignment\" : \"center\"\n",
    "          }, y = 1.05)\n",
    "\n",
    "    conMat = plot_confusion_matrix(model, testX, testy, cmap = \"YlOrRd\", values_format = \"g\", ax = ax[1])\n",
    "    conMat.ax_.set_yticklabels(\n",
    "      (\"Not Related\", \"Related\"),\n",
    "      fontdict = {\n",
    "          \"verticalalignment\": \"center\",\n",
    "          \"rotation\" : 90\n",
    "          }\n",
    "        )\n",
    "    ax[1].set_xticklabels(\n",
    "      (\"Not Related\", \"Related\"),\n",
    "      fontdict = {\n",
    "          \"horizontalalignment\": \"center\",\n",
    "          }\n",
    "        )\n",
    "    ax[1].set_xlabel(\n",
    "      \"Predicted Label\",\n",
    "      fontdict = {\n",
    "          \"weight\" : \"bold\"\n",
    "          }\n",
    "        )\n",
    "    ax[1].set_ylabel(\n",
    "      \"True Label\",\n",
    "      fontdict = {\n",
    "          \"weight\" : \"bold\"\n",
    "          }\n",
    "        )\n",
    "    conMat.ax_.set_title(\n",
    "      name + \" (Test)\",\n",
    "      fontdict = {\n",
    "          \"weight\" : \"bold\",\n",
    "          \"size\" : 14,\n",
    "          \"horizontalalignment\" : \"center\"\n",
    "          }, y = 1.05)\n",
    "\n",
    "    plt.tight_layout(pad = 8)\n",
    "    plt.show()  "
   ]
  },
  {
   "cell_type": "code",
   "execution_count": 12,
   "metadata": {
    "code_folding": [
     0
    ]
   },
   "outputs": [
    {
     "data": {
      "image/png": "[encoded data removed]",
      "text/plain": [
       "<Figure size 1080x432 with 4 Axes>"
      ]
     },
     "metadata": {
      "needs_background": "light"
     },
     "output_type": "display_data"
    },
    {
     "name": "stdout",
     "output_type": "stream",
     "text": [
      "\n",
      "Positive recall score for validation data set :  0.9494920993227991\n"
     ]
    },
    {
     "data": {
      "image/png": "[encoded data removed]",
      "text/plain": [
       "<Figure size 1080x432 with 4 Axes>"
      ]
     },
     "metadata": {
      "needs_background": "light"
     },
     "output_type": "display_data"
    },
    {
     "name": "stdout",
     "output_type": "stream",
     "text": [
      "\n",
      "Positive recall score for validation data set :  0.8972911963882618\n"
     ]
    },
    {
     "name": "stderr",
     "output_type": "stream",
     "text": [
      "C:\\Users\\LENOVO\\Anaconda3\\lib\\site-packages\\xgboost\\sklearn.py:888: UserWarning: The use of label encoder in XGBClassifier is deprecated and will be removed in a future release. To remove this warning, do the following: 1) Pass option use_label_encoder=False when constructing XGBClassifier object; and 2) Encode your labels (y) as integers starting with 0, i.e. 0, 1, 2, ..., [num_class - 1].\n",
      "  warnings.warn(label_encoder_deprecation_msg, UserWarning)\n"
     ]
    },
    {
     "name": "stdout",
     "output_type": "stream",
     "text": [
      "[21:46:25] WARNING: C:/Users/Administrator/workspace/xgboost-win64_release_1.3.0/src/learner.cc:1061: Starting in XGBoost 1.3.0, the default evaluation metric used with the objective 'binary:logistic' was changed from 'error' to 'logloss'. Explicitly set eval_metric if you'd like to restore the old behavior.\n"
     ]
    },
    {
     "data": {
      "image/png": "[encoded data removed]",
      "text/plain": [
       "<Figure size 1080x432 with 4 Axes>"
      ]
     },
     "metadata": {
      "needs_background": "light"
     },
     "output_type": "display_data"
    },
    {
     "name": "stdout",
     "output_type": "stream",
     "text": [
      "\n",
      "Positive recall score for validation data set :  0.9452595936794582\n"
     ]
    }
   ],
   "source": [
    "# Training and testing 3 algos and look for the best\n",
    "# Multinomial Naive Bayes\n",
    "NB_pipe = Pipeline([\n",
    "    (\"text\", textProcessor),\n",
    "    (\"clf\", MultinomialNB())\n",
    "])\n",
    "\n",
    "NB_pipe.fit(X_train, y_train)\n",
    "\n",
    "pred = NB_pipe.predict(X_test)\n",
    "\n",
    "plotConMat(\"Multinomial Naive Bayes\", NB_pipe, X_train, X_test, y_train, y_test)\n",
    "\n",
    "print(\"\\nPositive recall score for validation data set : \", recall_score(y_test, pred))\n",
    "\n",
    "# Random Forest Classifier\n",
    "RF_pipe = Pipeline([\n",
    "    (\"text\", textProcessor),\n",
    "    (\"clf\", RandomForestClassifier())\n",
    "])\n",
    "\n",
    "RF_pipe.fit(X_train, y_train)\n",
    "\n",
    "pred = RF_pipe.predict(X_test)\n",
    "\n",
    "plotConMat(\"Random Forest Classifier\", RF_pipe, X_train, X_test, y_train, y_test)\n",
    "\n",
    "print(\"\\nPositive recall score for validation data set : \", recall_score(y_test, pred))\n",
    "\n",
    "# XGBoost Classifier\n",
    "XGB_pipe = Pipeline([\n",
    "    (\"text\", textProcessor),\n",
    "    (\"clf\", XGBClassifier())\n",
    "])\n",
    "\n",
    "XGB_pipe.fit(X_train, y_train)\n",
    "\n",
    "pred = XGB_pipe.predict(X_test)\n",
    "\n",
    "plotConMat(\"XGBoost Classifier\", XGB_pipe, X_train, X_test, y_train, y_test)\n",
    "\n",
    "print(\"\\nPositive recall score for validation data set : \", recall_score(y_test, pred))"
   ]
  },
  {
   "cell_type": "markdown",
   "metadata": {},
   "source": [
    "Turns out Multinomial Naive Bayes got the best recall score. Therefore, we'll move to the test data set prediction with this model."
   ]
  },
  {
   "cell_type": "code",
   "execution_count": 13,
   "metadata": {
    "code_folding": [
     0
    ]
   },
   "outputs": [
    {
     "name": "stdout",
     "output_type": "stream",
     "text": [
      "Prediction :\n",
      "\n",
      "Non disaster tweets : 309 tweets\n",
      "Disaster related tweets : 2311 tweets\n",
      "\n",
      "True predictions : 85.84%\n"
     ]
    }
   ],
   "source": [
    "# Predicting test data set\n",
    "X = prep(test).drop(\"related\", 1)\n",
    "pred = NB_pipe.predict(X)\n",
    "\n",
    "print(f'''Prediction :\n",
    "\n",
    "Non disaster tweets : {len(pred[pred == 0])} tweets\n",
    "Disaster related tweets : {len(pred[pred == 1])} tweets''')\n",
    "\n",
    "true = 0\n",
    "for p, t in zip(pred, test[\"related\"]):\n",
    "    if p == t:\n",
    "        true += 1\n",
    "print(f\"\\nTrue predictions : {round((true / len(pred) * 100), 2)}%\")"
   ]
  }
 ],
 "metadata": {
  "kernelspec": {
   "display_name": "Python 3",
   "language": "python",
   "name": "python3"
  },
  "language_info": {
   "codemirror_mode": {
    "name": "ipython",
    "version": 3
   },
   "file_extension": ".py",
   "mimetype": "text/x-python",
   "name": "python",
   "nbconvert_exporter": "python",
   "pygments_lexer": "ipython3",
   "version": "3.8.5"
  },
  "toc": {
   "base_numbering": 1,
   "nav_menu": {},
   "number_sections": true,
   "sideBar": true,
   "skip_h1_title": false,
   "title_cell": "Table of Contents",
   "title_sidebar": "Contents",
   "toc_cell": false,
   "toc_position": {},
   "toc_section_display": true,
   "toc_window_display": false
  }
 },
 "nbformat": 4,
 "nbformat_minor": 4
}
